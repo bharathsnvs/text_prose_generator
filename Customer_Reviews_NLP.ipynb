{
 "cells": [
  {
   "cell_type": "code",
   "execution_count": 1,
   "metadata": {},
   "outputs": [],
   "source": [
    "# Bag of words without frameworks"
   ]
  },
  {
   "cell_type": "code",
   "execution_count": 7,
   "metadata": {},
   "outputs": [
    {
     "name": "stdout",
     "output_type": "stream",
     "text": [
      "{1: 1, 2: 1, 3: 1, 4: 1, 5: 1, 6: 2, 7: 1, 8: 2, 9: 1, 10: 1}\n",
      "{'test': 1, 'to': 2, 'see': 3, 'if': 4, 'this': 5, 'bag': 6, 'of': 7, 'words': 8, 'gets': 9, 'counted': 10}\n"
     ]
    }
   ],
   "source": [
    "vocab = {}\n",
    "word_encoding = 1\n",
    "def bag_of_words(text):\n",
    "    global word_encoding\n",
    "\n",
    "    words = text.lower().split(\" \")\n",
    "    bag = {}\n",
    "\n",
    "    for word in words:\n",
    "        if word in vocab:\n",
    "            encoding = vocab[word]\n",
    "        else:\n",
    "            vocab[word] = word_encoding\n",
    "            encoding = word_encoding\n",
    "            word_encoding += 1\n",
    "\n",
    "        if encoding in bag:\n",
    "            bag[encoding] += 1\n",
    "        else:\n",
    "            bag[encoding] = 1\n",
    "\n",
    "    return bag\n",
    "\n",
    "text = \"test to see if this bag bag of words words gets counted\"\n",
    "bag = bag_of_words(text)\n",
    "print(bag)\n",
    "print(vocab)"
   ]
  },
  {
   "cell_type": "markdown",
   "metadata": {},
   "source": [
    "# Working with movie reviews"
   ]
  },
  {
   "cell_type": "code",
   "execution_count": 12,
   "metadata": {},
   "outputs": [],
   "source": [
    "from keras.datasets import imdb\n",
    "from keras.preprocessing import sequence\n",
    "import keras\n",
    "import tensorflow as tf\n",
    "import os\n",
    "import numpy as np\n",
    "\n",
    "np_load_old = np.load\n",
    "np.load = lambda *a,**k: np_load_old(*a, allow_pickle=True, **k)\n",
    "\n",
    "VOCAB_SIZE = 88584\n",
    "\n",
    "MAXLEN = 250\n",
    "BATCH_SIZE = 64\n",
    "\n",
    "(train_data, train_labels), (test_data, test_labels) = imdb.load_data(num_words = VOCAB_SIZE)\n",
    "np.load = np_load_old\n"
   ]
  },
  {
   "cell_type": "code",
   "execution_count": 18,
   "metadata": {},
   "outputs": [
    {
     "data": {
      "text/plain": [
       "43"
      ]
     },
     "execution_count": 18,
     "metadata": {},
     "output_type": "execute_result"
    }
   ],
   "source": [
    "# Testing lengths of reveiws\n",
    "len(train_data[5])"
   ]
  },
  {
   "cell_type": "code",
   "execution_count": 19,
   "metadata": {},
   "outputs": [],
   "source": [
    "# Length of everything passed into the nn must be the same. Must preprocess data to compensate for varying lengths"
   ]
  },
  {
   "cell_type": "code",
   "execution_count": 20,
   "metadata": {},
   "outputs": [],
   "source": [
    "# If len > 250, we trim it off, and if less than 250, add padding with 0s to make it reach 250\n",
    "train_data = sequence.pad_sequences(train_data, MAXLEN)\n",
    "test_data = sequence.pad_sequences(test_data, MAXLEN)"
   ]
  },
  {
   "cell_type": "code",
   "execution_count": 23,
   "metadata": {},
   "outputs": [
    {
     "data": {
      "text/plain": [
       "250"
      ]
     },
     "execution_count": 23,
     "metadata": {},
     "output_type": "execute_result"
    }
   ],
   "source": [
    "# RE-Testing lengths of reveiws\n",
    "len(train_data[5])\n",
    "\n",
    "#Padding successful"
   ]
  },
  {
   "cell_type": "code",
   "execution_count": 27,
   "metadata": {},
   "outputs": [],
   "source": [
    "### MODEL ###\n",
    "\n",
    "model = tf.keras.Sequential([\n",
    "    tf.keras.layers.Embedding(VOCAB_SIZE, 32),\n",
    "    tf.keras.layers.LSTM(32),\n",
    "    tf.keras.layers.Dense(1, activation='sigmoid')\n",
    "])\n",
    "\n",
    "#sigmoid to help classify < 0.5 as negative, > 0.5 positive"
   ]
  },
  {
   "cell_type": "code",
   "execution_count": 28,
   "metadata": {},
   "outputs": [
    {
     "name": "stdout",
     "output_type": "stream",
     "text": [
      "Model: \"sequential_1\"\n",
      "_________________________________________________________________\n",
      "Layer (type)                 Output Shape              Param #   \n",
      "=================================================================\n",
      "embedding_1 (Embedding)      (None, None, 32)          2834688   \n",
      "_________________________________________________________________\n",
      "lstm_1 (LSTM)                (None, 32)                8320      \n",
      "_________________________________________________________________\n",
      "dense_1 (Dense)              (None, 1)                 33        \n",
      "=================================================================\n",
      "Total params: 2,843,041\n",
      "Trainable params: 2,843,041\n",
      "Non-trainable params: 0\n",
      "_________________________________________________________________\n"
     ]
    }
   ],
   "source": [
    "model.summary()"
   ]
  },
  {
   "cell_type": "code",
   "execution_count": 29,
   "metadata": {},
   "outputs": [],
   "source": [
    "### TRAINING ###"
   ]
  },
  {
   "cell_type": "code",
   "execution_count": 30,
   "metadata": {},
   "outputs": [
    {
     "name": "stdout",
     "output_type": "stream",
     "text": [
      "Train on 20000 samples, validate on 5000 samples\n",
      "Epoch 1/10\n",
      "20000/20000 [==============================] - 66s 3ms/sample - loss: 0.4018 - acc: 0.8192 - val_loss: 0.3173 - val_acc: 0.8698\n",
      "Epoch 2/10\n",
      "20000/20000 [==============================] - 64s 3ms/sample - loss: 0.2329 - acc: 0.9123 - val_loss: 0.2811 - val_acc: 0.8942\n",
      "Epoch 3/10\n",
      "20000/20000 [==============================] - 63s 3ms/sample - loss: 0.1803 - acc: 0.9351 - val_loss: 0.2712 - val_acc: 0.8980\n",
      "Epoch 4/10\n",
      "20000/20000 [==============================] - 63s 3ms/sample - loss: 0.1493 - acc: 0.9452 - val_loss: 0.2775 - val_acc: 0.8834\n",
      "Epoch 5/10\n",
      "20000/20000 [==============================] - 71s 4ms/sample - loss: 0.1280 - acc: 0.9549 - val_loss: 0.2769 - val_acc: 0.8904\n",
      "Epoch 6/10\n",
      "20000/20000 [==============================] - 68s 3ms/sample - loss: 0.1112 - acc: 0.9613 - val_loss: 0.3842 - val_acc: 0.8720\n",
      "Epoch 7/10\n",
      "20000/20000 [==============================] - 64s 3ms/sample - loss: 0.0962 - acc: 0.9675 - val_loss: 0.3100 - val_acc: 0.8874\n",
      "Epoch 8/10\n",
      "20000/20000 [==============================] - 65s 3ms/sample - loss: 0.0852 - acc: 0.9717 - val_loss: 0.3661 - val_acc: 0.8850\n",
      "Epoch 9/10\n",
      "20000/20000 [==============================] - 77s 4ms/sample - loss: 0.0740 - acc: 0.9758 - val_loss: 0.3963 - val_acc: 0.8850\n",
      "Epoch 10/10\n",
      "20000/20000 [==============================] - 72s 4ms/sample - loss: 0.0665 - acc: 0.9784 - val_loss: 0.3398 - val_acc: 0.8818\n"
     ]
    }
   ],
   "source": [
    "model.compile(loss=\"binary_crossentropy\", optimizer='rmsprop', metrics=['acc'])\n",
    "\n",
    "history = model.fit(train_data, train_labels, epochs=10, validation_split=0.2)"
   ]
  },
  {
   "cell_type": "code",
   "execution_count": 31,
   "metadata": {},
   "outputs": [
    {
     "name": "stdout",
     "output_type": "stream",
     "text": [
      "25000/25000 [==============================] - 19s 754us/sample - loss: 0.3977 - acc: 0.8576\n",
      "[0.3976806696534157, 0.85764]\n"
     ]
    }
   ],
   "source": [
    "results = model.evaluate(test_data, test_labels)\n",
    "print(results)"
   ]
  },
  {
   "cell_type": "code",
   "execution_count": 32,
   "metadata": {},
   "outputs": [],
   "source": [
    "# 85% accuracy not good enough, but a good start"
   ]
  },
  {
   "cell_type": "code",
   "execution_count": 33,
   "metadata": {},
   "outputs": [],
   "source": [
    "### MAKING PREDICTIONS ###\n",
    "\n",
    "# requires preprocessing any input to the model"
   ]
  },
  {
   "cell_type": "code",
   "execution_count": 36,
   "metadata": {},
   "outputs": [],
   "source": [
    "word_index = imdb.get_word_index()\n",
    "\n",
    "def encode_text(text):\n",
    "    tokens = keras.preprocessing.text.text_to_word_sequence(text)\n",
    "    tokens = [word_index[word] if word in word_index else 0 for word in tokens]\n",
    "    return sequence.pad_sequences([tokens], MAXLEN)[0]\n",
    "\n",
    "text = \"THat was quite a good movie, I'd say\"\n",
    "encoded = encode_text(text)\n",
    "\n",
    "# turns any input text into the format that the model takes in"
   ]
  },
  {
   "cell_type": "code",
   "execution_count": 39,
   "metadata": {},
   "outputs": [
    {
     "name": "stdout",
     "output_type": "stream",
     "text": [
      "that was quite a good movie i'd say\n"
     ]
    }
   ],
   "source": [
    "# a decoder function for any potential reverse use case\n",
    "\n",
    "reverse_word_index = {value: key for (key, value) in word_index.items()}\n",
    "\n",
    "def decode_integers(integers):\n",
    "    PAD = 0\n",
    "    text = \"\"\n",
    "    for num in integers:\n",
    "        if num != PAD:\n",
    "            text += reverse_word_index[num] + \" \"\n",
    "    return text[:-1]\n",
    "\n",
    "# Testing decoder function on the text string i added above\n",
    "print(decode_integers(encoded))"
   ]
  },
  {
   "cell_type": "code",
   "execution_count": 74,
   "metadata": {},
   "outputs": [
    {
     "name": "stdout",
     "output_type": "stream",
     "text": [
      "[0.71187735]\n"
     ]
    }
   ],
   "source": [
    "# make predictions\n",
    "\n",
    "def predict(text):\n",
    "    encoded_text = encode_text(text)\n",
    "    pred = np.zeros((1,250))\n",
    "    pred[0] = encoded_text\n",
    "    result = model.predict(pred)\n",
    "    print(str(result[0]))\n",
    "    \n",
    "review_text = \"Extremely interesting\"\n",
    "result = predict(review_text)"
   ]
  },
  {
   "cell_type": "code",
   "execution_count": null,
   "metadata": {},
   "outputs": [],
   "source": []
  }
 ],
 "metadata": {
  "kernelspec": {
   "display_name": "Python [conda env:nlp_rnn] *",
   "language": "python",
   "name": "conda-env-nlp_rnn-py"
  },
  "language_info": {
   "codemirror_mode": {
    "name": "ipython",
    "version": 3
   },
   "file_extension": ".py",
   "mimetype": "text/x-python",
   "name": "python",
   "nbconvert_exporter": "python",
   "pygments_lexer": "ipython3",
   "version": "3.7.7"
  }
 },
 "nbformat": 4,
 "nbformat_minor": 4
}
